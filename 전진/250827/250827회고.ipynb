{
 "cells": [
  {
   "metadata": {},
   "cell_type": "markdown",
   "source": [
    "final 키워드\n",
    "- final은 변경을 막는 키워드\n",
    "- 주로 세 가지 경우에 사용됨.\n",
    "\n",
    "1. 변수에 사용\n",
    "- final 변수는 값을 한 번만 할당할 수 가능\n",
    "- 주로 상수(constant) 선언에 사용\n",
    "```java\n",
    "final int MAX_USERS = 100;\n",
    "// MAX_USERS = 200;  // 컴파일 에러 발생!\n",
    "```\n",
    "2. 메소드에 사용\n",
    "- final 메소드는 오버라이딩 불가능\n",
    "```java\n",
    "class Parent {\n",
    "    public final void sayHello() {\n",
    "        System.out.println(\"Hello!\");\n",
    "    }\n",
    "}\n",
    "\n",
    "class Child extends Parent {\n",
    "    // @Override\n",
    "    // public void sayHello() { }  // 에러 발생\n",
    "}\n",
    "```\n",
    "3. 클래스에 사용\n",
    "- final 클래스는 상속 불가능\n",
    "```java\n",
    "final class Animal { }\n",
    "// class Dog extends Animal { }  // 에러 발생\n",
    "```"
   ],
   "id": "4cb516c681487a86"
  },
  {
   "metadata": {},
   "cell_type": "markdown",
   "source": [
    "열거형 (enum)\n",
    "- enum은 열거형 상수 집합을 표현하는 특별한 클래스\n",
    "- 고정된 값들을 관리할 때 유용(상태, 요일 등등)"
   ],
   "id": "1740f0e6ed5335e5"
  },
  {
   "metadata": {},
   "cell_type": "markdown",
   "source": [
    "```java\n",
    "enum Day {\n",
    "    MONDAY, TUESDAY, WEDNESDAY, THURSDAY, FRIDAY\n",
    "}\n",
    "\n",
    "public class Main {\n",
    "    public static void main(String[] args) {\n",
    "        Day today = Day.MONDAY;\n",
    "        System.out.println(today);  // MONDAY\n",
    "    }\n",
    "}\n",
    "```"
   ],
   "id": "59e18c6789a4ccf8"
  },
  {
   "metadata": {},
   "cell_type": "markdown",
   "source": [
    "내부 클래스 사용 시기\n",
    "\n",
    "- 멤버 내부 클래스: 외부 클래스와 밀접한 관계이고 외부 인스턴스 없이 사용 불가할 때\n",
    "- 정적 내부 클래스: 외부 클래스의 인스턴스와 무관하게 사용할 때\n",
    "- 지역 내부 클래스: 특정 메소드 내에서만 사용할 때\n",
    "- 익명 내부 클래스: 일회성 구현이 필요할 때 (Java 8+ 람다 선호)"
   ],
   "id": "9802995ad00fc57a"
  },
  {
   "metadata": {},
   "cell_type": "markdown",
   "source": [
    "멤버 내부 클래스 (Instance Inner Class)\n",
    "- 언제? - 외부 클래스의 인스턴스와 강하게 연결되어 있을 때. 외부 객체가 있어야 생성 가능.\n",
    "```java\n",
    "class Car {\n",
    "    private String brand = \"Hyundai\";\n",
    "\n",
    "    // 멤버 내부 클래스\n",
    "    class Engine {\n",
    "        void start() {\n",
    "            System.out.println(brand + \" 엔진 시동!\");\n",
    "        }\n",
    "    }\n",
    "}\n",
    "\n",
    "public class Main {\n",
    "    public static void main(String[] args) {\n",
    "        Car car = new Car();\n",
    "        Car.Engine engine = car.new Engine(); // 외부 인스턴스 필요\n",
    "        engine.start();\n",
    "    }\n",
    "}\n",
    "```"
   ],
   "id": "d7606502a1976ab8"
  },
  {
   "metadata": {},
   "cell_type": "markdown",
   "source": [
    "정적 내부 클래스 (Static Nested Class)\n",
    "- 외부 인스턴스와 무관하게 독립적으로 사용 가능할 때.\n",
    "- 주로 외부 클래스와 연관은 있지만 \"부가적인 기능\"일 때.\n",
    "```java\n",
    "class MathUtils {\n",
    "    static class Calculator {\n",
    "        static int add(int a, int b) {\n",
    "            return a + b;\n",
    "        }\n",
    "    }\n",
    "}\n",
    "\n",
    "public class Main {\n",
    "    public static void main(String[] args) {\n",
    "        int sum = MathUtils.Calculator.add(3, 5); // 외부 인스턴스 필요 없음\n",
    "        System.out.println(\"합계: \" + sum);\n",
    "    }\n",
    "}\n",
    "```"
   ],
   "id": "6ac204e52ef10f43"
  },
  {
   "metadata": {},
   "cell_type": "markdown",
   "source": [
    "지역 내부 클래스 (Local Inner Class)\n",
    "- 특정 메소드 안에서만 쓰이고, 바깥에선 필요 없는 경우.\n",
    "- 스코프(scope)가 메소드에 한정됨.\n",
    "```java\n",
    "class Greeting {\n",
    "    void sayHello() {\n",
    "        // 메소드 안에서만 쓰이는 지역 내부 클래스\n",
    "        class LocalPrinter {\n",
    "            void print() {\n",
    "                System.out.println(\"안녕하세요!\");\n",
    "            }\n",
    "        }\n",
    "\n",
    "        LocalPrinter printer = new LocalPrinter();\n",
    "        printer.print();\n",
    "    }\n",
    "}\n",
    "\n",
    "public class Main {\n",
    "    public static void main(String[] args) {\n",
    "        new Greeting().sayHello();\n",
    "    }\n",
    "}\n",
    "```"
   ],
   "id": "e74378fb5f8962a6"
  },
  {
   "metadata": {},
   "cell_type": "markdown",
   "source": [
    "익명 내부 클래스 (Anonymous Inner Class)\n",
    "- 한 번만 쓸 일회성 구현이 필요할 때.(Java 8 이상에서는 주로 람다로 대체 가능).\n",
    "```java\n",
    "interface Button {\n",
    "    void click();\n",
    "}\n",
    "\n",
    "public class Main {\n",
    "    public static void main(String[] args) {\n",
    "        // 익명 내부 클래스\n",
    "        Button button = new Button() {\n",
    "            @Override\n",
    "            public void click() {\n",
    "                System.out.println(\"버튼 클릭됨!\");\n",
    "            }\n",
    "        };\n",
    "\n",
    "        button.click();\n",
    "    }\n",
    "}\n",
    "```"
   ],
   "id": "5256670458d8206b"
  },
  {
   "metadata": {},
   "cell_type": "markdown",
   "source": [
    "실습 1: 직원 관리 시스템\n",
    "Employee 추상 클래스와 이를 상속받는 Manager, Developer 클래스를 작성하세요."
   ],
   "id": "6ea5cac12195fd08"
  },
  {
   "metadata": {},
   "cell_type": "markdown",
   "source": [
    "실습 2: 템플릿 메소드 패턴 - 음료 준비\n",
    "Beverage 추상 클래스를 만들고 Coffee와 Tea 클래스를 구현하세요."
   ],
   "id": "268010254959fe94"
  },
  {
   "metadata": {},
   "cell_type": "markdown",
   "source": [
    "실습 3: 인터페이스 활용 - 음식 주문 시스템\n",
    "Orderable 인터페이스를 만들고 Pizza, Ramen 클래스를 구현하세요.\n",
    "- Order_System 패키지 내에 구현완료"
   ],
   "id": "6d9e50355102f9e2"
  },
  {
   "metadata": {},
   "cell_type": "markdown",
   "source": [
    "실습 4: 도형 인터페이스\n",
    "Drawable과 Measurable 인터페이스를 구현하는 도형 클래스들을 작성하세요."
   ],
   "id": "49bf97fe6b3895d6"
  },
  {
   "metadata": {},
   "cell_type": "markdown",
   "source": [
    "객체지향 체크리스트\n",
    "- [x] 상속의 개념과 extends 키워드를 이해했다\n",
    "- [x] super와 super()의 사용법을 안다\n",
    "- [x] 메소드 오버라이딩을 구현할 수 있다\n",
    "- [x] 다형성의 개념과 활용법을 이해했다\n",
    "- [x] 추상 클래스와 추상 메소드를 작성할 수 있다\n",
    "- [x] 인터페이스를 정의하고 구현할 수 있다\n",
    "- [x] 접근 제한자를 적절히 사용할 수 있다\n",
    "- [X] 기본적인 디자인 패턴을 이해했다\n",
    "- [ ] 템플릿 메소드 패턴을 구현할 수 있다"
   ],
   "id": "f632d59c3841cae1"
  },
  {
   "metadata": {},
   "cell_type": "markdown",
   "source": "## Object 메소드",
   "id": "eb7d76d2b888df27"
  },
  {
   "metadata": {},
   "cell_type": "markdown",
   "source": [
    "toString()\n",
    "1. 기본 동작\n",
    "- 형식: 클래스이름@16진수해시코드\n",
    "- 예) Person@5e2de80c\n",
    "- 디버깅엔 불편, 의미가 거의 없음.\n",
    "\n",
    "2. 언제/어떻게 재정의\n",
    "- 로그/디버깅/모니터링에 유용한 사람 친화적 문자열을 원할 때.\n",
    "- 핵심 필드만 담고, 포맷은 일관되게.\n",
    "- **민감정보(비밀번호/토큰/주민번호)**는 절대 출력하지 않기.\n",
    "```java\n",
    "@Override\n",
    "public String toString() {\n",
    "    return String.format(\"Person{name='%s', age=%d}\", name, age);\n",
    "}\n",
    "```"
   ],
   "id": "bcc171be890f7bed"
  },
  {
   "metadata": {},
   "cell_type": "markdown",
   "source": [
    "equals(Object o)\n",
    "1. 기본 동작\n",
    "- Object의 기본 구현은 참조 동일성(==) 비교: 같은 객체일 때만 true.\n",
    "2. 언제/어떻게 재정의\n",
    "- 값 객체(ex. 좌표, 돈, 사용자 ID 등)처럼 “내용이 같으면 같다”로 판단하고 싶을 때.\n",
    "- 동치성 규약을 반드시 지켜야 함:\n",
    "3. 동치성 규약\n",
    "- 반사성: x.equals(x)는 true\n",
    "- 대칭성: x.equals(y)와 y.equals(x)는 같아야 함\n",
    "- 추이성: x~y, y~z이면 x~z\n",
    "- 일관성: 비교 대상 값이 안 바뀌면 결과도 안 바뀜\n",
    "- null 비교는 항상 false\n",
    "\n",
    "4. 구현 팁\n",
    "- ==로 자기 자신 빠른 체크\n",
    "- instanceof(또는 getClass() 전략)로 타입 체크\n",
    "- 비교에 쓰는 필드만 차례대로 비교 (null 안전하게)\n",
    "```java\n",
    "@Override\n",
    "public boolean equals(Object o) {\n",
    "    if (this == o) return true;\n",
    "    if (!(o instanceof Person)) return false;       // 상속 설계에 따라 getClass()도 고려\n",
    "    Person that = (Person) o;\n",
    "    return age == that.age &&\n",
    "           java.util.Objects.equals(name, that.name);\n",
    "}\n",
    "```\n",
    "\n",
    "상속하기 까다로운 메소드\n",
    "1. 클래스를 final로 하거나\n",
    "2. equals에서 getClass()로 정확히 같은 클래스만 동치로 보거나\n",
    "3. 대충 구현하면 대칭성/추이성이 깨지기 쉬움. “canEqual” 패턴 등을 사용?(추후 시도)"
   ],
   "id": "80d15a21f7b96c6d"
  },
  {
   "metadata": {},
   "cell_type": "markdown",
   "source": [
    "HashCode()\n",
    "1. 기본 동작\n",
    "- Object의 기본 구현은 객체 정체성 기반 해시(대개 주소 기반).\n",
    "\n",
    "2. 재정의하는 이유\n",
    "- equals를 재정의하면 반드시 hashCode도 재정의해야 함.\n",
    "- 그렇지 않으면 HashSet, HashMap 같은 컬렉션에서 동작이 깨짐.\n",
    "- (같은 내용인데 다른 해시 → 같은 버킷을 못 찾아서 포함 검사 실패 등)\n",
    "\n",
    "규칙\n",
    "- 같은 객체에 대해 일관된 값(객체의 비교 필드가 안 바뀌면 해시도 같아야).\n",
    "- x.equals(y) == true이면 x.hashCode() == y.hashCode() 여야 함.\n",
    "\n",
    "구현 예시\n",
    "```java\n",
    "//equals에 사용한 같은 필드들로만 해시를 계산하는 메소드\n",
    "\n",
    "@Override\n",
    "public int hashCode() {\n",
    "    return java.util.Objects.hash(name, age);\n",
    "    // 또는 수동: int result=17; result=31*result+age; result=31*result+(name==null?0:name.hashCode()); return result;\n",
    "}\n",
    "\n",
    "```\n",
    "- 주의: 해시에 쓰는 필드가 변하는(가변) 값이면, 그 객체를 HashSet/HashMap의 키로 쓴 후 값이 바뀌는 순간 탐색 불가/유실처럼 보이는 문제가 생길 수 있다.\n",
    "- 해결: 키는 불변(immutable) 로 설계하거나, 변경 필드를 해시/equals에서 제외해야함.\n",
    "- (GPT피셜/ 만들어봐야 이해할 수 있을거 같은데 아직은 어려울 듯)"
   ],
   "id": "4d96e34598523229"
  },
  {
   "metadata": {},
   "cell_type": "markdown",
   "source": "## String 클래스",
   "id": "a4c27927128d6b72"
  },
  {
   "metadata": {},
   "cell_type": "markdown",
   "source": [
    "1. 불변(Immutable) 클래스\n",
    "- 한 번 생성된 문자열은 변경 불가.\n",
    "- 예시:\n",
    "```java\n",
    "String str = \"Hello\";\n",
    "str.concat(\" World\"); // 새로운 문자열 생성, 기존 str은 변하지 않음\n",
    "System.out.println(str); // Hello\n",
    "```\n",
    "\n",
    "2. 문자열 리터럴 풀(String Pool) 활용\n",
    "- 동일한 문자열 리터럴은 메모리 공유.\n",
    "- 예시:\n",
    "```java\n",
    "String a = \"Java\";\n",
    "String b = \"Java\";\n",
    "System.out.println(a == b); // true, 같은 객체\n",
    "//new String(\"Java\") 사용하면 새로운 객체 생성.\n",
    "```\n",
    "3. equals()로 내용 비교\n",
    "- ==는 참조 비교\n",
    "- equals()는 문자열 내용 비교"
   ],
   "id": "b60879aaf834335e"
  },
  {
   "metadata": {},
   "cell_type": "markdown",
   "source": [
    "불변에 관한 추가 고찰 ver gpt\n",
    "```java\n",
    "String str = \"HELLO\";\n",
    "str = \"World\";\n",
    "```\n",
    "- String str = \"HELLO\";\n",
    "1. \"HELLO\"라는 문자열 객체가 String Pool에 생성됩니다.\n",
    "2. 변수 str은 이 \"HELLO\" 객체를 참조합니다.\n",
    "\n",
    "- str = \"World\";\n",
    "1. \"World\"라는 새로운 문자열 객체가 String Pool에 생성됩니다.\n",
    "2. 이제 str 변수는 \"World\"를 참조하도록 주소만 바뀝니다.\n",
    "3. 이전 \"HELLO\" 문자열 객체는 그대로 존재합니다. (참조가 없으면 GC 대상)\n",
    "\n",
    "- 불변하는 Hello 객체는 프로그램이 종료될때 메모리에서 해제됨."
   ],
   "id": "bdf0b9c3c09b559f"
  },
  {
   "metadata": {},
   "cell_type": "markdown",
   "source": [
    "왜 불변이 중요한가?\n",
    "- 안전성: 다른 객체가 같은 문자열을 공유해도 변하지 않음\n",
    "- Hash 기반 컬렉션에서 안전: HashMap, HashSet의 key로 사용 가능\n",
    "- 멀티스레드 환경 안전: 동기화 없이 읽기 전용으로 공유 가능"
   ],
   "id": "b338b4eb4b241544"
  },
  {
   "metadata": {},
   "cell_type": "markdown",
   "source": "## String 클래스 주요 메소드",
   "id": "5cde1fc261ff2903"
  },
  {
   "metadata": {},
   "cell_type": "markdown",
   "source": [
    "| 메소드 | 설명 | 예시 |\n",
    "|--------|------|------|\n",
    "| `length()` | 문자열 길이 | `\"Hello\".length() → 5` |\n",
    "| `charAt(int index)` | 특정 인덱스 문자 반환 | `\"Hello\".charAt(1) → 'e'` |\n",
    "| `substring(int begin, int end)` | 부분 문자열 추출 | `\"Hello\".substring(1,4) → \"ell\"` |\n",
    "| `indexOf(String s)` | 문자열 위치 반환 (첫 등장) | `\"Hello\".indexOf(\"l\") → 2` |\n",
    "| `lastIndexOf(String s)` | 문자열 위치 반환 (마지막 등장) | `\"Hello\".lastIndexOf(\"l\") → 3` |\n",
    "| `concat(String s)` | 문자열 결합 | `\"Hello\".concat(\" World\") → \"Hello World\"` |\n",
    "| `replace(CharSequence target, CharSequence replacement)` | 문자/문자열 치환 | `\"Hello\".replace(\"l\",\"L\") → \"HeLLo\"` |\n",
    "| `toLowerCase()/toUpperCase()` | 소문자/대문자 변환 | `\"Hello\".toUpperCase() → \"HELLO\"` |\n",
    "| `trim()` | 앞뒤 공백 제거 | `\"  Hi  \".trim() → \"Hi\"` |\n",
    "| `split(String regex)` | 문자열 분리 | `\"a,b,c\".split(\",\") → [\"a\",\"b\",\"c\"]` |\n",
    "| `equals(Object o)` | 문자열 내용 비교 | `\"abc\".equals(\"ABC\") → false` |\n",
    "| `equalsIgnoreCase(String s)` | 대소문자 무시 비교 | `\"abc\".equalsIgnoreCase(\"ABC\") → true` |\n",
    "| `startsWith(String prefix)` | 접두사 확인 | `\"Hello\".startsWith(\"He\") → true` |\n",
    "| `endsWith(String suffix)` | 접미사 확인 | `\"Hello\".endsWith(\"lo\") → true` |\n",
    "| `contains(CharSequence s)` | 포함 여부 확인 | `\"Hello\".contains(\"ll\") → true` |\n",
    "| `isEmpty()` | 빈 문자열 여부 | `\"\".isEmpty() → true` |\n",
    "| `toCharArray()` | 문자열을 문자 배열로 변환 | `\"Hi\".toCharArray() → ['H','i']` |\n"
   ],
   "id": "24b7ef79795a725d"
  },
  {
   "metadata": {},
   "cell_type": "markdown",
   "source": "## StringBuilder && StringBuffer",
   "id": "3b2f83dc23685f2d"
  },
  {
   "metadata": {},
   "cell_type": "markdown",
   "source": [
    "\n",
    "| 구분 | String | StringBuilder | StringBuffer |\n",
    "|------|--------|---------------|-------------|\n",
    "| **변경 가능성(Mutability)** | 불변(Immutable) | 가변(Mutable) | 가변(Mutable) |\n",
    "| **스레드 안전(Thread-safe)** | - | X (비동기 환경에서 안전하지 않음) | O (synchronized 처리, 안전) |\n",
    "| **속도** | 느림 (문자열 수정 시 새로운 객체 생성) | 빠름 | 느림 (동기화 때문에 StringBuilder보다 느림) |\n",
    "| **주 사용 목적** | 문자열 저장, 읽기 | 문자열을 반복적으로 수정/추가할 때 | 멀티스레드 환경에서 문자열 수정/추가 |\n",
    "| **주요 메소드** | length(), charAt(), substring(), concat(), replace(), indexOf(), trim(), split(), equals(), toUpperCase(), toLowerCase() 등 | append(), insert(), delete(), deleteCharAt(), reverse(), replace(), setCharAt(), capacity(), ensureCapacity() | append(), insert(), delete(), deleteCharAt(), reverse(), replace(), setCharAt(), capacity(), ensureCapacity() (동기화 처리됨) |\n",
    "| **객체 생성 예시** | `String str = \"Hello\";` | `StringBuilder sb = new StringBuilder(\"Hello\");` | `StringBuffer sbf = new StringBuffer(\"Hello\");` |\n",
    "| **복사 / 변환** | - | `toString()`으로 String 변환 | `toString()`으로 String 변환 |\n",
    "\n",
    "---\n",
    "\n",
    "### 🔹 사용 팁\n",
    "- **읽기 위주 문자열** → `String`\n",
    "- **단일 스레드에서 문자열을 반복 수정** → `StringBuilder`\n",
    "- **멀티스레드에서 문자열 수정** → `StringBuffer`\n",
    "\n",
    "> 참고: `StringBuilder`는 JDK 5 이후 추가된 클래스, 거의 대부분 단일 스레드 환경에서 `StringBuffer`보다 빠릅니다.\n"
   ],
   "id": "c9af27107376cc5c"
  },
  {
   "metadata": {},
   "cell_type": "markdown",
   "source": [
    "## 🔹 StringBuilder / StringBuffer 주요 메소드\n",
    "\n",
    "| 메소드 | 설명 | 형태/인자 |\n",
    "|--------|------|------------|\n",
    "| `append(...)` | 문자열/숫자 등 추가 | append(String str), append(int i) 등 |\n",
    "| `insert(int offset, ...)` | 특정 위치에 삽입 | insert(int offset, String str) 등 |\n",
    "| `delete(int start, int end)` | 범위 삭제 | delete(int start, int end) |\n",
    "| `deleteCharAt(int index)` | 특정 문자 삭제 | deleteCharAt(int index) |\n",
    "| `replace(int start, int end, String str)` | 범위 문자열 교체 | replace(int start, int end, String str) |\n",
    "| `reverse()` | 문자열 뒤집기 | reverse() |\n",
    "| `setCharAt(int index, char ch)` | 특정 문자 변경 | setCharAt(int index, char ch) |\n",
    "| `charAt(int index)` | 특정 문자 조회 | charAt(int index) |\n",
    "| `length()` | 현재 문자열 길이 | length() |\n",
    "| `capacity()` | 현재 버퍼 용량 | capacity() |\n",
    "| `ensureCapacity(int minimumCapacity)` | 최소 버퍼 용량 확보 | ensureCapacity(int minimumCapacity) |\n",
    "| `toString()` | String으로 변환 | toString() |\n",
    "\n",
    "> 🔹 참고\n",
    "> - `StringBuilder`는 단일 스레드용, `StringBuffer`는 멀티스레드용(synchronized)\n",
    "> - `String`과 달리 **문자열 변경 시 새로운 객체 생성하지 않음**\n",
    "\n",
    "---\n"
   ],
   "id": "bda05f029b456af0"
  },
  {
   "metadata": {},
   "cell_type": "markdown",
   "source": [
    "\n",
    "## 🔹 Math 클래스 주요 메소드\n",
    "\n",
    "| 메소드 | 설명 | 형태/인자 |\n",
    "|--------|------|------------|\n",
    "| `abs()` | 절댓값 | abs(int x), abs(double d) 등 |\n",
    "| `max()` | 최대값 | max(int a, int b), max(double a, double b) 등 |\n",
    "| `min()` | 최소값 | min(int a, int b), min(double a, double b) 등 |\n",
    "| `pow()` | 거듭제곱 | pow(double a, double b) |\n",
    "| `sqrt()` | 제곱근 | sqrt(double a) |\n",
    "| `round()` | 반올림 | round(float f), round(double d) |\n",
    "| `floor()` | 내림 | floor(double d) |\n",
    "| `ceil()` | 올림 | ceil(double d) |\n",
    "| `random()` | 0.0 이상 1.0 미만 난수 | random() → double |\n",
    "| `sin()`, `cos()`, `tan()` | 삼각함수 | sin(double rad), cos(double rad), tan(double rad) |\n",
    "| `toRadians()`, `toDegrees()` | 각도 변환 | toRadians(double deg), toDegrees(double rad) |\n",
    "| `exp()` | e^x 계산 | exp(double x) |\n",
    "| `log()` | 자연로그 | log(double x) |\n",
    "| `log10()` | 상용로그 | log10(double x) |\n",
    "| `signum()` | 부호 반환 | signum(double x) |\n",
    "\n",
    "> 🔹 참고\n",
    "> - `Math` 클래스 메소드는 **모두 static** → 객체 생성 없이 바로 사용 가능\n",
    "> - 실무에서 수학 계산, 난수 생성, 삼각함수, 로그/지수 계산 등 다양하게 활용\n"
   ],
   "id": "fd07d977dc97f28a"
  }
 ],
 "metadata": {
  "kernelspec": {
   "display_name": "Python 3",
   "language": "python",
   "name": "python3"
  },
  "language_info": {
   "codemirror_mode": {
    "name": "ipython",
    "version": 2
   },
   "file_extension": ".py",
   "mimetype": "text/x-python",
   "name": "python",
   "nbconvert_exporter": "python",
   "pygments_lexer": "ipython2",
   "version": "2.7.6"
  }
 },
 "nbformat": 4,
 "nbformat_minor": 5
}
