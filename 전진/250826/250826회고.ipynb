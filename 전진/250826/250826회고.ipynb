{
 "cells": [
  {
   "metadata": {},
   "cell_type": "markdown",
   "source": [
    "상속이란?\n",
    "- 부모 클래스의 필드와 메소드를 자식 클래스가 물려받음\n",
    "- 현실과는 달리 프로그래밍에서는 여러명의 자식에게 동일한 필드, 메소드를 물려줄 수 있다.\n",
    "- is-a 또는 kind-of (A는 B이다.)관계로 표현할 수 있다.\n",
    "- 코드의 재사용성과 확장성이 향상된다."
   ],
   "id": "d5527208382f1825"
  },
  {
   "metadata": {},
   "cell_type": "markdown",
   "source": [
    "```java\n",
    "\n",
    "public class Car extends Vehicle {\n",
    "    private int numberOfDoors;\n",
    "\n",
    "    public Car(String brand, String model, int year, int numberOfDoors) {\n",
    "        super(brand, model, year);  // 부모 생성자 호출\n",
    "        this.numberOfDoors = numberOfDoors;\n",
    "    }\n",
    "\n",
    "    // Car만의 고유 메소드\n",
    "    public void openTrunk() {\n",
    "        System.out.println(\"트렁크를 엽니다.\");\n",
    "    }\n",
    "\n",
    "    @Override\n",
    "    public void displayInfo() {\n",
    "        super.displayInfo();  // 부모 메소드 호출\n",
    "        System.out.println(\"문 개수: \" + numberOfDoors);\n",
    "    }\n",
    "}\n",
    "```"
   ],
   "id": "acc11ef511cfa4cd"
  },
  {
   "metadata": {},
   "cell_type": "markdown",
   "source": [
    "super와 super()\n",
    "\n",
    "- super: 부모 클래스의 멤버에 접근\n",
    "- super(): 부모 클래스의 생성자 호출\n",
    "- 모든 생성자는 첫 줄에 super() 또는 this()를 호출해야 함\n",
    "- 명시하지 않으면 자동으로 super() 호출"
   ],
   "id": "fdf1b087a131340f"
  },
  {
   "metadata": {},
   "cell_type": "markdown",
   "source": [
    "super()와 this() 차이\n",
    "\n",
    "super() : 부모 생성자 호출\n",
    "\n",
    "this() : 같은 클래스 내 다른 생성자 호출"
   ],
   "id": "e05cc11979d14b4a"
  },
  {
   "metadata": {},
   "cell_type": "markdown",
   "source": [
    "상속의 특징\n",
    "1. 부모는 자식을 가리킬 수 있지만 반대는 안된다.\n",
    "2. 필드는 타입을 따른다.\n",
    "3. 메서드는 오버라이딩되면 무조건 자식의 것을 사용한다.\n",
    "4. 클래스는 다중 상속 불가능 <-> 인터페이스와 다른점"
   ],
   "id": "644f7fe55bab3fa"
  },
  {
   "metadata": {},
   "cell_type": "markdown",
   "source": [
    "부모 자식 생성자에 관한 추가 고찰\n",
    "1. 자식 생성자가 실행되기 전, 부모 생성자가 실행된다.\n",
    "2. 메서드와 달리 생성자는 하위 클래스로 상속되지 않음\n",
    "3. super()를 명시하지 않으면 기본 생성자가 자동 호출되는데 기본 생성자가 없으면 반드시 super() 명시 필요\n",
    "3. 자식이 필요한 생성자는 직접 정의해야 한다\n",
    "4. 부모 클래스의 private 멤버는 자식 클래스에서 직접 접근할 수 없음 → super로도 불가\n",
    "5. 부모 생성자에 메소드가 삽입되어 있고, 이 메소드를 자식이 오버라이드하고 있다면, 자식 메소드가 초기화되지 않은 상태에서 자식 메소드가 반드시 실행된다는 규칙과 충돌 발생함\n",
    "6. 원칙: 생성자(또는 필드 초기화) 완료 전엔 this를 외부로 노출하거나, 오버라이드 메서드를 호출하지 말 것."
   ],
   "id": "14f6c19b436e5da"
  },
  {
   "metadata": {},
   "cell_type": "markdown",
   "source": [
    "```java\n",
    "class Parent {\n",
    "    Parent() {\n",
    "        System.out.println(\"Parent ctor start\");\n",
    "        hook();                 // ❌ 오버라이드 메서드 호출 위험\n",
    "        System.out.println(\"Parent ctor end\");\n",
    "    }\n",
    "    void hook() {}\n",
    "}\n",
    "\n",
    "class Child extends Parent {\n",
    "    private String name;        // 아직 null\n",
    "    Child() {\n",
    "        this.name = \"ABC\";      // 이 시점은 부모 생성자 종료 이후\n",
    "    }\n",
    "    @Override void hook() {\n",
    "        System.out.println(name.length());  // ❌ NPE (name이 아직 null)\n",
    "    }\n",
    "}\n",
    "```\n"
   ],
   "id": "bcaf083328fd4c8f"
  },
  {
   "metadata": {},
   "cell_type": "markdown",
   "source": [
    "추상 클래스란? - 미완성 설계도 같은 느낌\n",
    "- 인스턴스를 생성할 수 없는 클래스\n",
    "- 반드시 상속을 거쳐 사용\n",
    "- 일부만 구현되고 일부는 구현되지 않은 상태일 수 있다.\n",
    "- 추상 클래스를 상속받는 자손이 인스턴스가 된다.\n",
    "- abstract키워드를 사용하여 클래스를 정의한다.\n",
    "- 추상 클래스는 보통 1개 이상의 추상 메소드를 가진다. (추상 메소드가 없어도 오류가 발생하진 않는다.)\n",
    "- public abstract class 클래스명 { ..... }"
   ],
   "id": "be8d30455cb5701f"
  },
  {
   "metadata": {},
   "cell_type": "markdown",
   "source": [
    "인터페이스란? - \"기능 명세서\" 같은 느낌\n",
    "- \"이 기능을 반드시 구현해야 한다\"라고만 약속.\n",
    "- 기본적으로 추상 메서드만 가지고 있음. (자바 8 이후부터는 default, static 메서드도 가능)\n",
    "- interface 키워드로 선언\n",
    "- 모든 메서드는 기본적으로 public abstract (생략 가능)\n",
    "- 변수는 모두 public static final (상수)\n",
    "- 다중 구현(implements) 가능 → \"다중 상속 불가\" 문제 해결"
   ],
   "id": "7092d000ce1b2351"
  },
  {
   "metadata": {},
   "cell_type": "markdown",
   "source": [
    "| 구분    | 추상 클래스                    | 인터페이스                                    |\n",
    "| ----- | ------------------------- | ---------------------------------------- |\n",
    "| 목적    | 상속을 통한 \"공통 속성 + 기본 동작 제공\" | \"기능 약속\"을 통해 동작 규격 통일                     |\n",
    "| 키워드   | `abstract class`          | `interface`                              |\n",
    "| 메서드   | 추상 메서드 + 일반 메서드           | 기본은 추상 메서드, (Java8+) default / static 가능 |\n",
    "| 변수    | 인스턴스 변수 가질 수 있음           | 상수만 가짐 (`public static final`)           |\n",
    "| 상속/구현 | 단일 상속만 가능                 | 다중 구현 가능                                 |\n",
    "| 생성자   | 가질 수 있음                   | 없음                                       |\n"
   ],
   "id": "54077a3c52493e08"
  },
  {
   "metadata": {},
   "cell_type": "markdown",
   "source": [
    "템플릿 메소드에 대한 내용 추가\n",
    "인터페이스 내에 static 메소드 내용 추가"
   ],
   "id": "20644d884d754f27"
  },
  {
   "metadata": {},
   "cell_type": "markdown",
   "source": [
    "템플릿 메소드 패턴 (Template Method Pattern)\n",
    "- 알고리즘의 뼈대(구조)를 정의하고, 일부 단계는 자식 클래스에서 구현하도록 위임하는 디자인 패턴\n",
    "- “어떤 일을 처리하는 순서는 바꾸지 않으면서, 일부 내용만 바꾸고 싶을 때” 사용\n",
    "- 부모 클래스에서 템플릿 메소드 정의 → 알고리즘 전체 흐름을 설계\n",
    "- 구체적인 단계는 추상 메소드로 선언 → 자식 클래스에서 구현\n",
    "- 코드 재사용성과 일관성 유지"
   ],
   "id": "af1d3b5de43050a5"
  },
  {
   "metadata": {},
   "cell_type": "markdown",
   "source": [
    "```java\n",
    "abstract class Game {\n",
    "    // 템플릿 메소드\n",
    "    public final void play() {\n",
    "        start();\n",
    "        playTurn();\n",
    "        end();\n",
    "    }\n",
    "\n",
    "    abstract void start();     // 자식이 구현\n",
    "    abstract void playTurn();  // 자식이 구현\n",
    "    abstract void end();       // 자식이 구현\n",
    "}\n",
    "\n",
    "class Soccer extends Game {\n",
    "    void start() { System.out.println(\"축구 게임 시작\"); }\n",
    "    void playTurn() { System.out.println(\"축구 경기 진행\"); }\n",
    "    void end() { System.out.println(\"축구 게임 종료\"); }\n",
    "}\n",
    "\n",
    "class Main {\n",
    "    public static void main(String[] args) {\n",
    "        Game game = new Soccer();\n",
    "        game.play(); // 알고리즘 순서 유지 + Soccer 단계 실행\n",
    "    }\n",
    "}\n",
    "```\n"
   ],
   "id": "610b2418f54544dd"
  },
  {
   "metadata": {},
   "cell_type": "markdown",
   "source": [
    "인터페이스 내 static 메소드\n",
    "- 자바 8 이후, 인터페이스 안에서도 static 메소드를 정의 가능\n",
    "- 인터페이스 이름으로 직접 호출 가능, 객체 필요 없음\n",
    "- 주로 공용 유틸리티 메소드를 넣는 데 사용\n",
    "- 객체 없이 사용 가능 → InterfaceName.method()\n",
    "- 인터페이스를 구현한 클래스가 override할 수 없음\n",
    "- default 메소드와 혼용 가능"
   ],
   "id": "13f5f8d75ccc717c"
  },
  {
   "metadata": {},
   "cell_type": "markdown",
   "source": [
    "싱글톤 패턴 (Singleton Pattern)\n",
    "- 객체를 단 하나만 만들도록 보장하는 패턴\n",
    "- 어떤 클래스의 객체가 프로그램 전체에서 딱 하나만 필요할 때 사용한다.\n",
    "- 생성자를 private으로 막음 → 외부에서 new로 객체 생성 불가\n",
    "- 클래스 내부에서 단 하나의 인스턴스를 생성 → static으로 관리\n",
    "- 전역적으로 같은 객체를 공유"
   ],
   "id": "cc31286a6c68e0b"
  },
  {
   "metadata": {},
   "cell_type": "markdown",
   "source": [
    "```java\n",
    "class Singleton {\n",
    "    private static Singleton instance;  // 자기 자신 타입의 static 필드\n",
    "\n",
    "    private Singleton() {} // 외부에서 new 못 하게 private 생성자\n",
    "\n",
    "    public static Singleton getInstance() {\n",
    "        if (instance == null) { // 아직 안 만들어졌다면\n",
    "            instance = new Singleton();\n",
    "        }\n",
    "        return instance;\n",
    "    }\n",
    "}\n",
    "\n",
    "public class Main {\n",
    "    public static void main(String[] args) {\n",
    "        Singleton s1 = Singleton.getInstance();\n",
    "        Singleton s2 = Singleton.getInstance();\n",
    "\n",
    "        System.out.println(s1 == s2); // true (같은 객체)\n",
    "    }\n",
    "}\n",
    "```"
   ],
   "id": "2e5241fcfec55d2"
  },
  {
   "metadata": {},
   "cell_type": "markdown",
   "source": [
    "팩토리 메소드 패턴 (Factory Method Pattern)\n",
    "- 객체 생성을 서브클래스(하위 클래스)에 위임하는 패턴\n",
    "- 즉, \"어떤 객체를 만들지는 **팩토리(공장)**에게 맡긴다\"는 개념.\n",
    "- 객체를 직접 new로 만들지 않고, 팩토리 메서드를 통해 생성\n",
    "- 확장이 쉽고, 객체 생성을 한 곳에서 통일적으로 관리 가능"
   ],
   "id": "badb7c42bd0c0830"
  },
  {
   "metadata": {},
   "cell_type": "markdown",
   "source": [
    "```java\n",
    "// 제품 인터페이스\n",
    "interface Product {\n",
    "    void use();\n",
    "}\n",
    "\n",
    "// 구체적인 제품 A\n",
    "class ProductA implements Product {\n",
    "    public void use() {\n",
    "        System.out.println(\"Product A 사용\");\n",
    "    }\n",
    "}\n",
    "\n",
    "// 구체적인 제품 B\n",
    "class ProductB implements Product {\n",
    "    public void use() {\n",
    "        System.out.println(\"Product B 사용\");\n",
    "    }\n",
    "}\n",
    "\n",
    "// 팩토리 (생산 공장 역할)\n",
    "class ProductFactory {\n",
    "    public static Product createProduct(String type) {\n",
    "        if (type.equals(\"A\")) {\n",
    "            return new ProductA();\n",
    "        } else if (type.equals(\"B\")) {\n",
    "            return new ProductB();\n",
    "        }\n",
    "        throw new IllegalArgumentException(\"알 수 없는 제품 타입\");\n",
    "    }\n",
    "}\n",
    "\n",
    "public class Main {\n",
    "    public static void main(String[] args) {\n",
    "        Product p1 = ProductFactory.createProduct(\"A\");\n",
    "        p1.use(); // Product A 사용\n",
    "\n",
    "        Product p2 = ProductFactory.createProduct(\"B\");\n",
    "        p2.use(); // Product B 사용\n",
    "    }\n",
    "}\n",
    "```"
   ],
   "id": "6acbfc76e2ed6d0e"
  },
  {
   "metadata": {},
   "cell_type": "markdown",
   "source": [
    "클래스 로더(Class Loader)란?\n",
    "\n",
    "- JVM이 .class 파일을 읽어서 메모리에 올려주는 역할\n",
    "- 쉽게 말하면 “클래스라는 설계도를 찾아서 프로그램 안에 가져오는 담당자”\n",
    "- 보통 우리가 new 클래스명()으로 객체를 만들지만, 클래스 이름을 문자열로 받아서 객체를 동적으로 만들 수도 있다."
   ],
   "id": "6dd83657bdee9114"
  },
  {
   "metadata": {},
   "cell_type": "markdown",
   "source": [
    "동적 객체 생성 (Reflection 이용)\n",
    "Class clazz = Class.forName(\"패키지명.클래스명\");\n",
    "- \"패키지명.클래스명\" → 문자열로 클래스 이름 지정\n",
    "- JVM이 이 이름을 가진 클래스 정보를 찾아서 clazz 객체로 만들어줌\n",
    "- 아직 객체가 만들어진 것은 아님, 클래스 정보만 가져온 상태"
   ],
   "id": "70722cb383e2c9f9"
  },
  {
   "metadata": {},
   "cell_type": "markdown",
   "source": [
    "3️⃣ 객체 생성 방법\n",
    "1. 매개변수 없는 생성자\n",
    "//Object obj = clazz.getDeclaredConstructor().newInstance();\n",
    "- getDeclaredConstructor() → 생성자를 가져옴 (여기서는 기본 생성자)\n",
    "- newInstance() → 객체 생성\n",
    "- 결과: obj는 이제 \"클래스명\" 객체를 참조\n",
    "- 이전에는 clazz.newInstance()를 썼지만 Java 9부터 deprecated → 권장하지 않음\n",
    "\n",
    "2. 매개변수가 있는 생성자\n",
    "//Object obj2 = clazz\n",
    "                .getDeclaredConstructor(String.class, int.class)\n",
    "                .newInstance(\"값\", 10);\n",
    "- getDeclaredConstructor(String.class, int.class) → 문자열과 정수를 받는 생성자\n",
    "- newInstance(\"값\", 10) → 실제로 객체 생성\n",
    "- 이렇게 하면 동적으로 생성자 선택 가능"
   ],
   "id": "c14bdc15c8ba7b3a"
  },
  {
   "metadata": {},
   "cell_type": "markdown",
   "source": [
    "람다 인터페이스와 익명 클래스\n",
    "\n",
    "```java\n",
    "interface Flyable {\n",
    "    void fly();\n",
    "}\n",
    "```\n",
    "라는 인터페이스가 있다고 가정하자\n",
    "인터페이스는 new할 수 없다. (메소드가 존재하지 않으므로)\n",
    "그래서 별도의 클래스로 만들어주어야 하는데 이 과정을 생략할 수 있게 해주는 것이 람다 인터페이스와 익명 클래스이다.\n"
   ],
   "id": "4f0f2a81c91a88a7"
  },
  {
   "metadata": {},
   "cell_type": "markdown",
   "source": [
    "익명 클래스 예시\n",
    "```java\n",
    "public class Main {\n",
    "    public static void main(String[] args) {\n",
    "        Flyable f = new Flyable() {   // 이름 없는 클래스 만들기\n",
    "            public void fly() {\n",
    "                System.out.println(\"익명 클래스: 새가 난다!\");\n",
    "            }\n",
    "        };\n",
    "        f.fly();\n",
    "    }\n",
    "}\n",
    "```\n",
    "특징\n",
    "- new Flyable() { ... } 안에 메서드 구현을 바로 넣음\n",
    "- 컴파일러가 내부적으로 Flyable을 구현한 이름 없는 클래스를 만들어줌\n",
    "- 문법이 좀 길다\n"
   ],
   "id": "6901d3939838d730"
  },
  {
   "metadata": {},
   "cell_type": "markdown",
   "source": [
    "람다 인터페이스 예시\n",
    "```java\n",
    "public class Main {\n",
    "    public static void main(String[] args) {\n",
    "        Flyable f = () -> System.out.println(\"람다식: 새가 난다!\");\n",
    "        f.fly();\n",
    "    }\n",
    "}\n",
    "```\n",
    "특징\n",
    "- () = fly() 메서드의 매개변수 자리\n",
    "- -> 뒤에 실행할 코드만 적으면 됨\n",
    "- 훨씬 짧고 가독성이 좋음\n"
   ],
   "id": "4f49b625b796eb96"
  }
 ],
 "metadata": {
  "kernelspec": {
   "display_name": "Python 3",
   "language": "python",
   "name": "python3"
  },
  "language_info": {
   "codemirror_mode": {
    "name": "ipython",
    "version": 2
   },
   "file_extension": ".py",
   "mimetype": "text/x-python",
   "name": "python",
   "nbconvert_exporter": "python",
   "pygments_lexer": "ipython2",
   "version": "2.7.6"
  }
 },
 "nbformat": 4,
 "nbformat_minor": 5
}
