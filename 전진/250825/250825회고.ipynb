{
 "cells": [
  {
   "metadata": {},
   "cell_type": "markdown",
   "source": [
    "상속이란?\n",
    "- 부모 클래스의 필드와 메소드를 자식 클래스가 물려받음\n",
    "- 현실과는 달리 프로그래밍에서는 여러명의 자식에게 동일한 필드, 메소드를 물려줄 수 있다.\n",
    "- is-a 또는 kind-of (A는 B이다.)관계로 표현할 수 있다.\n",
    "- 코드의 재사용성과 확장성이 향상된다."
   ],
   "id": "2f85c74d13984527"
  },
  {
   "metadata": {},
   "cell_type": "markdown",
   "source": [
    "```java\n",
    "\n",
    "public class Car extends Vehicle {\n",
    "    private int numberOfDoors;\n",
    "\n",
    "    public Car(String brand, String model, int year, int numberOfDoors) {\n",
    "        super(brand, model, year);  // 부모 생성자 호출\n",
    "        this.numberOfDoors = numberOfDoors;\n",
    "    }\n",
    "\n",
    "    // Car만의 고유 메소드\n",
    "    public void openTrunk() {\n",
    "        System.out.println(\"트렁크를 엽니다.\");\n",
    "    }\n",
    "\n",
    "    @Override\n",
    "    public void displayInfo() {\n",
    "        super.displayInfo();  // 부모 메소드 호출\n",
    "        System.out.println(\"문 개수: \" + numberOfDoors);\n",
    "    }\n",
    "}\n",
    "```"
   ],
   "id": "becbba2a0deaa3be"
  },
  {
   "metadata": {},
   "cell_type": "markdown",
   "source": [
    "super와 super()\n",
    "\n",
    "- super: 부모 클래스의 멤버에 접근\n",
    "- super(): 부모 클래스의 생성자 호출\n",
    "- 모든 생성자는 첫 줄에 super() 또는 this()를 호출해야 함\n",
    "- 명시하지 않으면 자동으로 super() 호출"
   ],
   "id": "39b4da93891e9819"
  },
  {
   "metadata": {},
   "cell_type": "markdown",
   "source": [
    "상속의 특징 3가지\n",
    "1. 부모는 자식을 가리킬 수 있지만 반대는 안된다.\n",
    "2. 필드는 타입을 따른다.\n",
    "3. 메서드는 오버라이딩되면 무조건 자식의 것을 사용한다."
   ],
   "id": "d820d2c38b260231"
  },
  {
   "metadata": {},
   "cell_type": "markdown",
   "source": [
    "참조 변수와 실제 객체 타입이 헷갈릴 경우 - 객체의 두 가지 타입\n",
    "- 자바에서 변수를 선언할 때는 참조 변수 타입과 실제 객체 타입이 있음.\n",
    "```java\n",
    "Parent p = new Child();\n",
    "```\n",
    "- 여기서 Parent가 참조 변수 타입, Child가 실제 객체 타입이다.\n",
    "- 즉, 변수 p는 parent라고 선언되었지만, 실제로 가리키는 건 Child 객체라는 뜻"
   ],
   "id": "fb01471c0f97003b"
  },
  {
   "metadata": {},
   "cell_type": "markdown",
   "source": [
    "업캐스팅이란?\n",
    "- 자식 객체를 부모 타입 참조 변수에 담는 것\n",
    "- 항상 안전해서 자동 변환이 된다.\n",
    "- 이유 : 자식은 항상 부모가 가진 기능을 전부 상속받기 때문에 부모 타입으로 다루는건 안전하기 때문\n",
    "- 업캐스팅을 한다는 것은 자식클래스로 선언했지만, 지금은 부모에 있는 메서드만 사용하겠다고 약속하는 것."
   ],
   "id": "6766a34ef295c3a0"
  },
  {
   "metadata": {},
   "cell_type": "markdown",
   "source": [
    "다운캐스팅이란?\n",
    "- 부모 타입 참조변수를 자식 타입 참조 변수로 변환하는 것.\n",
    "- 명시적으로 캐스팅 해줘야 함.\n",
    "- 런타임 때 진짜 자식이여야 성공한다.\n",
    "- 자식이 아닌것을 캐스팅하면 ClassCastException이 발생한다. 이걸 방지하기 위해 instanceof 검사 후 사용하는 게 기본.\n",
    "```java\n",
    "//1. 자식이 맞으므로 런타임때 성공\n",
    "Parent p = new Child(); // 업캐스팅\n",
    "Child c = (Child) p;    // 다운캐스팅 (명시적)\n",
    "\n",
    "//2. 자식이 아니므로 런타임때 실패\n",
    "Parent p = new Parent();\n",
    "Child c = (Child) p; // 런타임 오류(ClassCastException)\n",
    "\n",
    "//3. instanceof 검사\n",
    "if (p instanceof Child) {\n",
    "    Child c = (Child) p;\n",
    "    c.world();\n",
    "}\n",
    "```\n"
   ],
   "id": "11e94b36761fa9e5"
  },
  {
   "metadata": {},
   "cell_type": "markdown",
   "source": [
    "다형성이란\n",
    "- 하나의 이름이 여러 가지 형태로 동작하는 것\n",
    "- 상위 타입 하나로 여러 하위 타입을 다루는 것을 말함.\n",
    "- 오버로딩과 오버라이딩이 다형성의 주요 분류\n",
    "- 오버로딩은 같은 이름의 메소드를 다른 매개변수로 다양하게 관리하는 것.\n",
    "- 오버라이딩은 런타임에 실제 객체 타입에 따라 실행할 메소드가 바뀌는 것."
   ],
   "id": "8a58752f2c00cc89"
  },
  {
   "metadata": {},
   "cell_type": "markdown",
   "source": [
    "오버라이딩의 핵심은 업캐스팅\n",
    "```java\n",
    "Animal a1 = new Dog();\n",
    "Animal a2 = new Cat();\n",
    "\n",
    "List<Animal> animals = List.of(a1, a2);\n",
    "\n",
    "for (Animal a : animals) {\n",
    "    a.sound(); // 각각 Woof, Meow 실행\n",
    "}\n",
    "```\n",
    "\n",
    "- animal 하나로 여러 개의 동물 객체를 다룰 수 있음."
   ],
   "id": "dd6dee85a354c240"
  },
  {
   "metadata": {},
   "cell_type": "markdown",
   "source": [
    "```java\n",
    "class Parent {\n",
    "    void hello() { System.out.println(\"Hello\"); }\n",
    "}\n",
    "\n",
    "class Child extends Parent {\n",
    "    void world() { System.out.println(\"World\"); }\n",
    "}\n",
    "```"
   ],
   "id": "8ecef959747faaa"
  },
  {
   "metadata": {},
   "cell_type": "markdown",
   "source": [
    "부모 타입 참조 변수는 부모가 가진 기능만 쓸 수 있음.\n",
    "- 아래 코드에서 p의 타입은 parent이기 때문에 컴파일러는 parent가 가지고 있는 메소드까지만 허용함.\n",
    "- 자식에서 추가한 기능(아래 코드에서 world())를 사용하고 싶을 때 필요한게 다운캐스팅\n",
    "```java\n",
    "Parent p = new Child(); // 업캐스팅\n",
    "p.hello();\n",
    "p.world();\n",
    "```"
   ],
   "id": "b2cc822d7f4dd080"
  },
  {
   "metadata": {},
   "cell_type": "markdown",
   "source": [
    "child c = new child()로 새로 만들어서 쓰지 않고, 자식 메소드에 접근시키려고 Child c = (Child) p;를 이용해 다운캐스팅을 해야하는 이유\n",
    "\n",
    "- new Child()를 하면 완전히 새로운 객체를 생성\n",
    "- 이미 가지고 있는 Parent p 변수 안에는 원래 특정 상태를 가진 Child 객체가 들어있음.\n",
    "- 객체를 새로 만들어버리면 p가 가리키고 있던 기존 객체 데이터가 무의미\n",
    "- 이미 만들어져 관리 중인 객체에 접근하기 위해 다운캐스팅을 사용하는 것.\n",
    "- 다형성을 위해 부모 객체로 업캐스팅을 하여 객체를 사용하다가, 자식 타입의 기능이 필요할때 다운캐스팅을 사용한다."
   ],
   "id": "63b66d977693f165"
  },
  {
   "metadata": {},
   "cell_type": "markdown",
   "source": [
    "부모 자식 생성자에 관한 추가 고찰\n",
    "1. 자식 생성자가 실행되기 전, 부모 생성자가 실행된다.\n",
    "2. 메서드와 달리 생성자는 하위 클래스로 상속되지 않음\n",
    "3. 자식이 필요한 생성자는 직접 정의해야 한다\n",
    "4. 부모 생성자에 메소드가 삽입되어 있고, 이 메소드를 자식이 오버라이드하고 있다면, 자식 메소드가 초기화되지 않은 상태에서 자식 메소드가 반드시 실행된다는 규칙과 충돌 발생함\n",
    "5. 원칙: 생성자(또는 필드 초기화) 완료 전엔 this를 외부로 노출하거나, 오버라이드 메서드를 호출하지 말 것.\n",
    "6."
   ],
   "id": "7fcc0ae1ec3ce1f8"
  },
  {
   "metadata": {},
   "cell_type": "markdown",
   "source": [
    "필드는 타입을 따르고 메소드는 객체를 따른다\n",
    "- 자바는 주로 참조 변수도 직접 접근하기보다는 getter나 setter를 통해 접근하는 경우가 많음.\n",
    "- 동적 바인딩과 오버라이딩 측면에서 메소드는 객체를 따른다는 점이 더 유리함.\n",
    "- 자바에서 getter/setter 메서드를 통한 접근이 권장되는 가장 큰 이유 중 하나가 동적 바인딩과 다형성 활용 측면임."
   ],
   "id": "1644d1719f84d118"
  }
 ],
 "metadata": {
  "kernelspec": {
   "display_name": "Python 3",
   "language": "python",
   "name": "python3"
  },
  "language_info": {
   "codemirror_mode": {
    "name": "ipython",
    "version": 2
   },
   "file_extension": ".py",
   "mimetype": "text/x-python",
   "name": "python",
   "nbconvert_exporter": "python",
   "pygments_lexer": "ipython2",
   "version": "2.7.6"
  }
 },
 "nbformat": 4,
 "nbformat_minor": 5
}
