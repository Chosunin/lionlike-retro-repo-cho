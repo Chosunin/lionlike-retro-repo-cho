{
 "cells": [
  {
   "metadata": {},
   "cell_type": "markdown",
   "source": "메소드 오버로딩",
   "id": "3ae78dcda1295b85"
  },
  {
   "metadata": {},
   "cell_type": "markdown",
   "source": [
    "math 클래스에 final 정의하는 이유\n",
    "1. 상속을 금지한다는 뜻\n",
    "2. Math 클래스는 모든 개발자가 사용하는 핵심 유틸리티 클래스로 누군가 상속받아 기능을 바꿔버리면 오동작할 가능성 존재-> final로 가능성 차단\n",
    "3. 이 클래스는 확장하지 말고 그냥 그대로 사용하라는 의도를 명확히 함."
   ],
   "id": "68a5492ae45aad63"
  },
  {
   "metadata": {},
   "cell_type": "markdown",
   "source": [
    "생성자란?\n",
    "- 반환타입이 없음/void도 쓰지 않음-실제로는 선언된 객체가 메모리에 로드된 위치를 반환함\n",
    "- 객체의 초기화를 담당\n"
   ],
   "id": "a7d7e67a36497f64"
  },
  {
   "metadata": {},
   "cell_type": "markdown",
   "source": [
    "this란?\n",
    "- 현재 객체를 가리키며, 객체의 필드를 접근하거나 (this.필드이름) 객체를 그대로 반환할 때 주로 사용된다.(return this)"
   ],
   "id": "bed8e96da5fe2145"
  },
  {
   "metadata": {},
   "cell_type": "markdown",
   "source": [
    "this. vs this()\n",
    "- this. -> 현재 객체 자기 자신\n",
    "- this() -> 현재 클래스의 다른 생성자를 호출, 반드시 생성자의 첫 줄만 사용할 수 있음., 중복코드 방지용으로 사용\n",
    "```java\n",
    "public Person(String name) {\n",
    "        this(name, 0); // 다른 생성자 호출\n",
    "    }\n",
    "\n",
    "public Person(String name, int age) {\n",
    "    this.name = name;\n",
    "    this.age = age;\n",
    "}\n",
    "```"
   ],
   "id": "24c98cb99a5510da"
  },
  {
   "metadata": {},
   "cell_type": "markdown",
   "source": [
    "패키지란?\n",
    "- 관련된 클래스들을 그룹화하는 디렉토리 구조\n",
    "- 클래스의 충돌을 방지하고 관리를 용이하게 함\n",
    "- 도메인 역순으로 작성하는게 관례"
   ],
   "id": "e5b5aa90d39054d5"
  },
  {
   "metadata": {},
   "cell_type": "markdown",
   "source": [
    "패키지 명명 규칙\n",
    "- 모두 소문자 사용\n",
    "- 도메인 역순 사용\n",
    "- 예약어 사용 금지\n",
    "- 특수문자는 언더바만 허용"
   ],
   "id": "83fb4eb75fa42216"
  },
  {
   "metadata": {},
   "cell_type": "markdown",
   "source": [
    "메모리 개념\n",
    "- new 연산자를 사용할 때마다 메모리에 인스턴스가 생성된다.\n",
    "- 인스턴스는 더 이상 참조되는 것이 없을 때, 나중에 가비지 컬렉션(Garbage Collection) 된다.\n",
    "- static한 필드는 클래스가 로딩될 때 딱 한번 메모리에 올라가고 초기화 된다.\n",
    "- 인스턴스 메소드는 인스턴스를 생성하고나서 레퍼런스 변수를 이용해 사용할 수 있다.\n",
    "- 클래스 메소드는 클래스명.메소드명() 으로 사용가능하다.\n",
    "- 메소드 안에 선언된 변수들은 메소드가 실행될 때 메모리에 생성되었다가, 메소드가 종료될 때 사라진다.\n",
    "- 클래스 필드는 프로그램이 시작할때 메모리에 로드\n",
    "- 인스턴스 필드는 new로 인스턴스가 만들어질때 메모리에 로드"
   ],
   "id": "b9500fc1ed322a2f"
  },
  {
   "metadata": {},
   "cell_type": "markdown",
   "source": [
    "import 사용규칙\n",
    "1. 단일 클래스 import 권장\n",
    "ex) import.java.util.Scanner;\n",
    "2. 와일드카드 import 비권장\n",
    "ex) import.java.util.*\n",
    "3. static import(static 멤버를 직접 사용-Math.PI를 Math.없이 PI만 써서 사용가능하게 해줌)"
   ],
   "id": "5efae06acf822b38"
  },
  {
   "metadata": {},
   "cell_type": "markdown",
   "source": [
    "메모리 저장 위치\n",
    "- static 변수는 Heap 영역에 저장\n",
    "- Class 메타 데이터는 Metaspace에 저장\n",
    "- Heap 영역: new로 만든 객체 인스턴스가 저장되는 공간.\n",
    "- Stack 영역: 지역 변수·매개변수, 메서드 호출 정보 저장.\n",
    "- Method Area(Metaspace): 클래스 정보 + static 변수 저장.\n",
    "- **_(static이 어느 영역에 저장되는게 맞는지 헷갈림)_**"
   ],
   "id": "b77df0fcea80b1f1"
  },
  {
   "metadata": {},
   "cell_type": "markdown",
   "source": [
    "static 필드(클래스 변수)의 특징\n",
    "- 클래스 로딩 시 메모리에 단 1개만 생성됨 (객체와 무관).\n",
    "- 모든 인스턴스(객체)가 공유함.\n",
    "- 객체 생성 없이 클래스명.필드명 으로 접근 가능.\n",
    "- 프로그램 종료 시까지 메모리에 존재."
   ],
   "id": "cac0e716a06bca4c"
  },
  {
   "metadata": {},
   "cell_type": "markdown",
   "source": [
    "static 메소드(클래스 메소드)의 특징\n",
    "- 객체 생성 없이 호출 가능 → 클래스명.메소드명().\n",
    "- 인스턴스 멤버(필드/메소드)에 직접 접근 불가 (객체 없이는 존재하지 않기 때문).\n",
    "- this 키워드를 사용할 수 없음.\n",
    "- 주로 유틸리티 성격의 메소드에 사용"
   ],
   "id": "67fa3d58f7d227d4"
  },
  {
   "metadata": {},
   "cell_type": "markdown",
   "source": [
    "인스턴스 멤버의 특징\n",
    "- 객체 생성 시마다 새로 생성됨.\n",
    "- 각 객체는 자기만의 값을 가짐.\n",
    "- 반드시 객체를 생성해야 접근 가능.\n",
    "- this 사용 가능."
   ],
   "id": "124b1b511efda23e"
  },
  {
   "metadata": {},
   "cell_type": "markdown",
   "source": [
    "클래스 멤버 vs 인스턴스 멤버 구분법\n",
    "- 인스턴스 멤버는 객체마다 다르게 가지는 멤버이고 클래스 멤버는 객체들이 공유하는 멤버이다.\n",
    "| 구분      | 인스턴스 멤버             | 클래스(static) 멤버                  |\n",
    "| ------- | ------------------- | ------------------------------- |\n",
    "| 선언 방식   | `타입 변수명;`           | `static 타입 변수명;`                |\n",
    "| 메모리 시점  | 객체 생성 시             | 클래스 로딩 시                        |\n",
    "| 메모리 개수  | 객체마다 별도             | 클래스당 1개 (공유)                    |\n",
    "| 접근 방식   | `객체참조변수.멤버`         | `클래스명.멤버` (객체 참조로도 접근은 가능)      |\n",
    "| this 사용 | 가능                  | 불가능                             |\n",
    "| 대표 예시   | `name`, `age` 같은 속성 | `Math.PI`, `Integer.parseInt()` |\n",
    "\n"
   ],
   "id": "c29698ff01770a44"
  },
  {
   "metadata": {},
   "cell_type": "markdown",
   "source": [
    "객체지향 프로그래밍이란?\n",
    "- 프로그램을 객체들로 구성하도록 작성하는것으로 객체는 서로 메시지나 데이터를 주고받을 수 있고, 처리할 수 있는 독립된 단위이다."
   ],
   "id": "439dad46c56d2e33"
  },
  {
   "metadata": {},
   "cell_type": "markdown",
   "source": [
    "추가 목표\n",
    "1. 은행계좌 클래스/도형 클래스 만들기\n",
    "2. 로또 클래스 만들기 -> LottoMachine.java / LottoMC.java 작성완료\n",
    "3. 계산기 클래스 업그레이드 하기"
   ],
   "id": "f381b5c808d9d474"
  },
  {
   "metadata": {},
   "cell_type": "markdown",
   "source": [
    "메모\n",
    "Alt+Insert 단축키- 생성자, getter, setter 만드는 데 유용"
   ],
   "id": "bf549ead35bb5b40"
  }
 ],
 "metadata": {
  "kernelspec": {
   "display_name": "Python 3",
   "language": "python",
   "name": "python3"
  },
  "language_info": {
   "codemirror_mode": {
    "name": "ipython",
    "version": 2
   },
   "file_extension": ".py",
   "mimetype": "text/x-python",
   "name": "python",
   "nbconvert_exporter": "python",
   "pygments_lexer": "ipython2",
   "version": "2.7.6"
  }
 },
 "nbformat": 4,
 "nbformat_minor": 5
}
